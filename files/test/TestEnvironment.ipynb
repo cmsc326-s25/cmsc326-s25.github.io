{
 "cells": [
  {
   "cell_type": "markdown",
   "metadata": {},
   "source": [
    "# Notebook to Test the Python Environment "
   ]
  },
  {
   "cell_type": "markdown",
   "metadata": {},
   "source": [
    "#### Test 1: Confirm the existence of the necessary libaries"
   ]
  },
  {
   "cell_type": "code",
   "execution_count": null,
   "metadata": {},
   "outputs": [],
   "source": [
    "import matplotlib\n",
    "import numpy\n",
    "import pandas\n",
    "import pint\n",
    "\n",
    "print(\"Matplotlib version:\", matplotlib.__version__)\n",
    "print(\"NumPy version:\", numpy.__version__)\n",
    "print(\"Pandas version:\", pandas.__version__)\n",
    "print(\"Pint version:\", pint.__version__)"
   ]
  },
  {
   "cell_type": "markdown",
   "metadata": {},
   "source": [
    "#### Test 2: Verify that the py5 GUIs work\n",
    "\n",
    "**Note:** You should see a popup UI window saying that \"It Works!\""
   ]
  },
  {
   "cell_type": "code",
   "execution_count": null,
   "metadata": {},
   "outputs": [],
   "source": [
    "import py5\n",
    "\n",
    "def setup():\n",
    "    py5.size(300, 300)\n",
    "\n",
    "def draw():\n",
    "    py5.fill(255) \n",
    "    py5.ellipse(py5.width / 2, py5.height / 2, 200, 200)\n",
    "    py5.fill(0)  \n",
    "    py5.ellipse(py5.width / 2 - 50, py5.height / 2 - 40, 20, 20)\n",
    "    py5.ellipse(py5.width / 2 + 50, py5.height / 2 - 40, 20, 20)\n",
    "    py5.arc(py5.width / 2, py5.height / 2 + 20, 100, 60, 0, py5.PI)\n",
    "    py5.text_size(50)\n",
    "    py5.text(\"It Works!\", 60, 40)\n",
    "\n",
    "py5.run_sketch()"
   ]
  }
 ],
 "metadata": {
  "kernelspec": {
   "display_name": "simulationS25",
   "language": "python",
   "name": "python3"
  },
  "language_info": {
   "codemirror_mode": {
    "name": "ipython",
    "version": 3
   },
   "file_extension": ".py",
   "mimetype": "text/x-python",
   "name": "python",
   "nbconvert_exporter": "python",
   "pygments_lexer": "ipython3",
   "version": "3.11.11"
  }
 },
 "nbformat": 4,
 "nbformat_minor": 4
}
